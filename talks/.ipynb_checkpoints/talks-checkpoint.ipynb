{
 "cells": [
  {
   "cell_type": "code",
   "execution_count": 35,
   "metadata": {},
   "outputs": [
    {
     "data": {
      "text/html": [
       "<style>\n",
       "table  {margin-left: 0 !important;}\n",
       "</style>"
      ],
      "text/plain": [
       "<IPython.core.display.HTML object>"
      ]
     },
     "metadata": {},
     "output_type": "display_data"
    }
   ],
   "source": [
    "%%html\n",
    "<style>\n",
    "table  {margin-left: 0 !important;}\n",
    "</style>"
   ]
  },
  {
   "cell_type": "markdown",
   "metadata": {},
   "source": [
    "# Оценка форумных обсуждений\n",
    "\n",
    "По мотивам публикации в газете \"СБ-Беларусь сегодня\" и в других источниках в связи с обсуждением на интернет-форуме портала Тут.бай дела Доната Скакуна. Само дело здесь не обсуждается.\n",
    "\n",
    "## Опорные статьи\n",
    "\n",
    "1. Статья Яна Жура [Когда клавиатура страшнее пистолета](https://www.sb.by/articles/kogda-klaviatura-strashnee-pistoleta.html) от 30 марта 2018 г.\n",
    "2. [Реакция в Фейсбуке Юрия Зиссера на эту статью](https://www.facebook.com/yzisser/posts/10212029981124576) 31 марта 2018 г.\n",
    "3. Цитата из этой реакции руководителя Talks.by Ольги Сытько: \"СБ сделало аналитику комментирования отдельных статей на наших форумах talks.by. Результат они считают достоверным - якобы обрабатывали программой, выводы сделали сами. Штука в том, что двух из трёх якобы оплаченных комментаторов я ЗНАЮ ЛИЧНО И ГОТОВА ПОДПИСАТЬСЯ, что они искренне пишут то, что думают. СБ, ваши выводы смехотворны. Зачем вы берётесь анализировать данные в области, в которой ничего не смыслите? В следующий раз позовите меня. )\"\n",
    "\n",
    "## Рабочие материалы\n",
    "\n",
    "HTML-страницы соотв. темы на форуме были собраны с сайта talks.by и сохранены в архивах:\n",
    "\n",
    "|Тема на форуме | HTML-архив  | Статус темы  |\n",
    "|: ---- | -------------| ----- |\n",
    "| [Суд вынес приговор гимназисту, напавшему с ножом на учительницу](https://talks.by/showthread.php?t=14319541) | data/14319541.zip | Закрыта |\n",
    "| [Родители Скакуна выплатили пострадавшей учительнице 23 тысячи долларов компенсации](https://talks.by/showthread.php?t=14345586) | data/14345586.zip  | Активна |"
   ]
  },
  {
   "cell_type": "code",
   "execution_count": null,
   "metadata": {},
   "outputs": [],
   "source": []
  }
 ],
 "metadata": {
  "kernelspec": {
   "display_name": "Python 3",
   "language": "python",
   "name": "python3"
  },
  "language_info": {
   "codemirror_mode": {
    "name": "ipython",
    "version": 3
   },
   "file_extension": ".py",
   "mimetype": "text/x-python",
   "name": "python",
   "nbconvert_exporter": "python",
   "pygments_lexer": "ipython3",
   "version": "3.4.2"
  }
 },
 "nbformat": 4,
 "nbformat_minor": 2
}

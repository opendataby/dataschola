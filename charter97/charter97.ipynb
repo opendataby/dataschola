{
 "cells": [
  {
   "cell_type": "markdown",
   "metadata": {},
   "source": [
    "## Активность сайта Хартия97\n",
    "\n",
    "Анализ активности сайта http://chacter97.org. Изучается динамика публикаций и комментариев пользователей с 25 сентября 2007 по 31 декабря 2016 гг.\n",
    "\n",
    "*Просьба подсказать, как правильно вывести данные в график matplotlib (с сортировкой по годам по возрастанию)."
   ]
  },
  {
   "cell_type": "code",
   "execution_count": 15,
   "metadata": {
    "collapsed": true
   },
   "outputs": [],
   "source": [
    "# Загружаем необходимые для работы модули:\n",
    "import csv\n",
    "import datetime\n",
    "from collections import defaultdict\n",
    "import matplotlib.pyplot as plt\n",
    "%matplotlib inline"
   ]
  },
  {
   "cell_type": "code",
   "execution_count": 3,
   "metadata": {
    "collapsed": false
   },
   "outputs": [
    {
     "data": {
      "text/plain": [
       "228575"
      ]
     },
     "execution_count": 3,
     "metadata": {},
     "output_type": "execute_result"
    }
   ],
   "source": [
    "# Загружаем файл с данными, преобразуем его в словарь и смотрим объем данных:\n",
    "with open(\"data/charter97.csv\") as csv_file:\n",
    "    data = [datum for datum in csv.DictReader(csv_file)]\n",
    "len(data)"
   ]
  },
  {
   "cell_type": "code",
   "execution_count": 10,
   "metadata": {
    "collapsed": false
   },
   "outputs": [
    {
     "data": {
      "text/plain": [
       "{'comments': '2116',\n",
       " 'date': '2012-03-17',\n",
       " 'link': 'http://charter97.org/ru/news/2012/3/17/49399/',\n",
       " 'title': 'Владислава Ковалева расстреляли'}"
      ]
     },
     "execution_count": 10,
     "metadata": {},
     "output_type": "execute_result"
    }
   ],
   "source": [
    "# В файле 228 575 строчек. Каждая строчка - это статья на Хартии.\n",
    "# Смотрим, какие данные находятся в отдельной строчке:\n",
    "data[0]"
   ]
  },
  {
   "cell_type": "markdown",
   "metadata": {},
   "source": [
    "### Структура данных\n",
    "\n",
    "Для отдельной записи указаны:\n",
    "\n",
    "- Название статьи\n",
    "- Дата публикации\n",
    "- Количество комментариев\n",
    "- Гиперссылка\n",
    "\n",
    "Простейшая аналитическая операция, которую можно сделать - это посмотреть динамику статей и комментариев во времени. Для этого нужно узнать, сколько статей и комментариев публикуется в год:"
   ]
  },
  {
   "cell_type": "code",
   "execution_count": 6,
   "metadata": {
    "collapsed": false
   },
   "outputs": [],
   "source": [
    "# Делаем две выборки: одну для статей, вторую для комментариев:\n",
    "articles = defaultdict(int)\n",
    "comments = defaultdict(int)\n",
    "\n",
    "for datum in data:\n",
    "    date_string = datum[\"date\"]\n",
    "    d = datetime.datetime.strptime(date_string, \"%Y-%m-%d\")\n",
    "    year = d.strftime(\"%Y\")\n",
    "    articles[year] += 1\n",
    "    comments[year] += int(datum[\"comments\"])"
   ]
  },
  {
   "cell_type": "code",
   "execution_count": 8,
   "metadata": {
    "collapsed": false
   },
   "outputs": [
    {
     "data": {
      "text/plain": [
       "defaultdict(int,\n",
       "            {'2007': 2479,\n",
       "             '2008': 10113,\n",
       "             '2009': 10686,\n",
       "             '2010': 9310,\n",
       "             '2011': 10519,\n",
       "             '2012': 15916,\n",
       "             '2013': 18318,\n",
       "             '2014': 49698,\n",
       "             '2015': 51242,\n",
       "             '2016': 50294})"
      ]
     },
     "execution_count": 8,
     "metadata": {},
     "output_type": "execute_result"
    }
   ],
   "source": [
    "# Распечатываем обе выборки и смотрим, что получилось:\n",
    "articles"
   ]
  },
  {
   "cell_type": "code",
   "execution_count": 85,
   "metadata": {
    "collapsed": false,
    "scrolled": true
   },
   "outputs": [
    {
     "data": {
      "text/plain": [
       "defaultdict(int,\n",
       "            {'2007': 10845,\n",
       "             '2008': 84198,\n",
       "             '2009': 144082,\n",
       "             '2010': 187705,\n",
       "             '2011': 488683,\n",
       "             '2012': 552026,\n",
       "             '2013': 630968,\n",
       "             '2014': 678360,\n",
       "             '2015': 414918,\n",
       "             '2016': 466314})"
      ]
     },
     "execution_count": 85,
     "metadata": {},
     "output_type": "execute_result"
    }
   ],
   "source": [
    "comments"
   ]
  },
  {
   "cell_type": "markdown",
   "metadata": {},
   "source": [
    "### Предварительные выводы\n",
    "\n",
    "1. Пик публикаций на Хартии приходится на 2015 год - 51 242 материала. Это в среднем около 140 материалов в день.\n",
    "2. Это почти в 3 раза больше материалов, чем было опубликовано в 2013 году. Очень внушительный рост за 2 года.\n",
    "3. Пик комментариев пользователей пришелся на 2014 год - 678 360. С тех по комментариям Хартия откатилась на уровень 2010 года."
   ]
  },
  {
   "cell_type": "code",
   "execution_count": 19,
   "metadata": {
    "collapsed": false,
    "scrolled": true
   },
   "outputs": [
    {
     "data": {
      "image/png": "[encoded data removed]",
      "text/plain": [
       "<matplotlib.figure.Figure at 0x7fd19f56f668>"
      ]
     },
     "metadata": {},
     "output_type": "display_data"
    }
   ],
   "source": [
    "# Строим график для статей, чтобы было нагляднее\n",
    "# Тут сюрприз с сортировкой данных. Пока не решил как это побороть\n",
    "\n",
    "plt.bar(range(len(articles)), articles.values(), align='center')\n",
    "plt.xticks(range(len(articles)), articles.keys())\n",
    "\n",
    "plt.show()"
   ]
  },
  {
   "cell_type": "code",
   "execution_count": 20,
   "metadata": {
    "collapsed": false
   },
   "outputs": [
    {
     "data": {
      "image/png": "[encoded data removed]",
      "text/plain": [
       "<matplotlib.figure.Figure at 0x7fd1a035e908>"
      ]
     },
     "metadata": {},
     "output_type": "display_data"
    }
   ],
   "source": [
    "plt.bar(range(len(comments)), comments.values())\n",
    "plt.xticks(range(len(comments)), comments.keys())\n",
    "\n",
    "plt.show()"
   ]
  },
  {
   "cell_type": "code",
   "execution_count": null,
   "metadata": {
    "collapsed": true
   },
   "outputs": [],
   "source": []
  }
 ],
 "metadata": {
  "kernelspec": {
   "display_name": "Python 3",
   "language": "python",
   "name": "python3"
  },
  "language_info": {
   "codemirror_mode": {
    "name": "ipython",
    "version": 3
   },
   "file_extension": ".py",
   "mimetype": "text/x-python",
   "name": "python",
   "nbconvert_exporter": "python",
   "pygments_lexer": "ipython3",
   "version": "3.4.2"
  }
 },
 "nbformat": 4,
 "nbformat_minor": 2
}

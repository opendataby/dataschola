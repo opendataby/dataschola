{
 "cells": [
  {
   "cell_type": "markdown",
   "metadata": {},
   "source": [
    "# Активность сайта Хартия97\n",
    "\n",
    "Анализ активности сайта http://charter97.org. Изучается динамика публикаций и комментариев пользователей с 25 сентября 2007 по 31 декабря 2016 гг.\n",
    "\n",
    "*Просьба подсказать, как правильно вывести данные в график matplotlib (с сортировкой по годам по возрастанию)."
   ]
  },
  {
   "cell_type": "code",
   "execution_count": 1,
   "metadata": {
    "collapsed": true
   },
   "outputs": [],
   "source": [
    "# Загружаем необходимые для работы модули:\n",
    "import csv\n",
    "import datetime\n",
    "from collections import defaultdict, OrderedDict\n",
    "from operator import itemgetter\n",
    "import matplotlib.pyplot as plt\n",
    "%matplotlib inline"
   ]
  },
  {
   "cell_type": "code",
   "execution_count": 2,
   "metadata": {
    "collapsed": false
   },
   "outputs": [
    {
     "data": {
      "text/plain": [
       "228575"
      ]
     },
     "execution_count": 2,
     "metadata": {},
     "output_type": "execute_result"
    }
   ],
   "source": [
    "# Загружаем файл с данными, преобразуем каждую строчку в словарь и смотрим объем данных:\n",
    "with open(\"data/charter97.csv\") as csv_file:\n",
    "    data = [datum for datum in csv.DictReader(csv_file)]\n",
    "len(data)"
   ]
  },
  {
   "cell_type": "code",
   "execution_count": 10,
   "metadata": {
    "collapsed": false
   },
   "outputs": [
    {
     "data": {
      "text/plain": [
       "{'comments': '2116',\n",
       " 'date': '2012-03-17',\n",
       " 'link': 'http://charter97.org/ru/news/2012/3/17/49399/',\n",
       " 'title': 'Владислава Ковалева расстреляли'}"
      ]
     },
     "execution_count": 10,
     "metadata": {},
     "output_type": "execute_result"
    }
   ],
   "source": [
    "# В файле 228 575 строчек. Каждая строчка - это статья на Хартии.\n",
    "# Смотрим, какие данные находятся в отдельной строчке:\n",
    "data[0]"
   ]
  },
  {
   "cell_type": "markdown",
   "metadata": {},
   "source": [
    "## Структура данных\n",
    "\n",
    "Для отдельной записи указаны:\n",
    "\n",
    "- Название статьи\n",
    "- Дата публикации\n",
    "- Количество комментариев\n",
    "- Гиперссылка\n",
    "\n",
    "Простейшая аналитическая операция, которую можно сделать - это посмотреть динамику статей и комментариев во времени. Для этого нужно узнать, сколько статей и комментариев публикуется в год:"
   ]
  },
  {
   "cell_type": "code",
   "execution_count": 9,
   "metadata": {
    "collapsed": true
   },
   "outputs": [],
   "source": [
    "# Для удобства расчетов меняем тип переменной comments со строкового на целочисленный:\n",
    "for datum in data:\n",
    "    datum[\"comments\"] = int(datum[\"comments\"])"
   ]
  },
  {
   "cell_type": "code",
   "execution_count": 10,
   "metadata": {
    "collapsed": false
   },
   "outputs": [],
   "source": [
    "# Делаем две выборки: одну для статей, вторую для комментариев:\n",
    "articles = defaultdict(int)\n",
    "comments = defaultdict(int)\n",
    "\n",
    "for datum in data:\n",
    "    date_string = datum[\"date\"]\n",
    "    d = datetime.datetime.strptime(date_string, \"%Y-%m-%d\")\n",
    "    year = d.strftime(\"%Y\")\n",
    "    articles[year] += 1\n",
    "    comments[year] += datum[\"comments\"]"
   ]
  },
  {
   "cell_type": "code",
   "execution_count": 12,
   "metadata": {
    "collapsed": false
   },
   "outputs": [
    {
     "data": {
      "text/plain": [
       "defaultdict(int,\n",
       "            {'2007': 2479,\n",
       "             '2008': 10113,\n",
       "             '2009': 10686,\n",
       "             '2010': 9310,\n",
       "             '2011': 10519,\n",
       "             '2012': 15916,\n",
       "             '2013': 18318,\n",
       "             '2014': 49698,\n",
       "             '2015': 51242,\n",
       "             '2016': 50294})"
      ]
     },
     "execution_count": 12,
     "metadata": {},
     "output_type": "execute_result"
    }
   ],
   "source": [
    "# Распечатываем обе выборки и смотрим, что получилось:\n",
    "articles"
   ]
  },
  {
   "cell_type": "code",
   "execution_count": 30,
   "metadata": {
    "collapsed": false,
    "scrolled": false
   },
   "outputs": [
    {
     "data": {
      "text/plain": [
       "defaultdict(int,\n",
       "            {'2007': 10845,\n",
       "             '2008': 84198,\n",
       "             '2009': 144082,\n",
       "             '2010': 187705,\n",
       "             '2011': 488683,\n",
       "             '2012': 552026,\n",
       "             '2013': 630968,\n",
       "             '2014': 678360,\n",
       "             '2015': 414918,\n",
       "             '2016': 466314})"
      ]
     },
     "execution_count": 30,
     "metadata": {},
     "output_type": "execute_result"
    }
   ],
   "source": [
    "comments"
   ]
  },
  {
   "cell_type": "markdown",
   "metadata": {},
   "source": [
    "## Предварительные выводы\n",
    "\n",
    "1. Пик публикаций на Хартии приходится на 2015 год - 51 242 материала. Это в среднем около 140 материалов в день.\n",
    "2. Это почти в 3 раза больше материалов, чем было опубликовано в 2013 году. Очень внушительный рост за 2 года.\n",
    "3. Пик комментариев пользователей пришелся на 2014 год - 678 360. С тех по комментариям Хартия откатилась на уровень 2011 года."
   ]
  },
  {
   "cell_type": "code",
   "execution_count": 13,
   "metadata": {
    "collapsed": false,
    "scrolled": false
   },
   "outputs": [
    {
     "data": {
      "image/png": "[encoded data removed]",
      "text/plain": [
       "<matplotlib.figure.Figure at 0xaa3900ac>"
      ]
     },
     "metadata": {},
     "output_type": "display_data"
    }
   ],
   "source": [
    "# Строим график для статей, чтобы было нагляднее\n",
    "articles_ordered = OrderedDict(sorted(articles.items()))\n",
    "\n",
    "plt.bar(range(len(articles_ordered)), articles_ordered.values(), align=\"center\")\n",
    "plt.xticks(range(len(articles_ordered)), articles_ordered.keys())\n",
    "\n",
    "plt.show()"
   ]
  },
  {
   "cell_type": "markdown",
   "metadata": {},
   "source": [
    "На картинке хорошо видно, что после существенного роста по количеству материалов в 2014 году Хартия достигла пика в 2015 году, а в 2016 году сдала. Вопрос в том, смогут ли редакция сайта и спонсоры проекта удержать этот уровень дальше.\n",
    "\n",
    "Беглый контент-анализ показывает, что с началом Майдана в Украине Хартия активно освещала украинские события и даже сделала у себя специальный раздел \"Украина\". В настоящее время этот раздел убран в подвал главной страницы сайта."
   ]
  },
  {
   "cell_type": "code",
   "execution_count": 33,
   "metadata": {
    "collapsed": false
   },
   "outputs": [
    {
     "data": {
      "image/png": "[encoded data removed]",
      "text/plain": [
       "<matplotlib.figure.Figure at 0x7f27d0fb89e8>"
      ]
     },
     "metadata": {},
     "output_type": "display_data"
    }
   ],
   "source": [
    "# Строим график для динамики опубликованных комментариев\n",
    "comments_ordered = OrderedDict(sorted(comments.items()))\n",
    "\n",
    "plt.bar(range(len(comments_ordered)), comments_ordered.values(), align=\"center\")\n",
    "plt.xticks(range(len(comments_ordered)), comments_ordered.keys())\n",
    "\n",
    "plt.show()"
   ]
  },
  {
   "cell_type": "markdown",
   "metadata": {
    "collapsed": true
   },
   "source": [
    "Видим, что по активности комментаторов Хартия заметно просела уже в 2015 году."
   ]
  },
  {
   "cell_type": "code",
   "execution_count": 3,
   "metadata": {
    "collapsed": false
   },
   "outputs": [],
   "source": [
    "# Ради интереса определяем наиболее комментируемые материалы по годам:\n",
    "articles_clustered_by_year = defaultdict(list)\n",
    "for datum in data:\n",
    "    date_string = datum[\"date\"]\n",
    "    d = datetime.datetime.strptime(date_string, \"%Y-%m-%d\")\n",
    "    year = d.strftime(\"%Y\")\n",
    "    articles_clustered_by_year[year].append(datum)"
   ]
  },
  {
   "cell_type": "code",
   "execution_count": 80,
   "metadata": {
    "collapsed": false
   },
   "outputs": [],
   "source": [
    "svodka_po_godam = {}\n",
    "for year in clustered_by_year.keys():\n",
    "    clustered_by_year[year] = sorted(clustered_by_year[year], key = itemgetter(\"comments\"), reverse = True)\n",
    "    svodka_po_godam[year] = clustered_by_year[year][0]"
   ]
  },
  {
   "cell_type": "code",
   "execution_count": 82,
   "metadata": {
    "collapsed": false,
    "scrolled": false
   },
   "outputs": [
    {
     "name": "stdout",
     "output_type": "stream",
     "text": [
      "2007 -- Белорусские рок-музыканты пообещали не играть на акциях протеста -- 226 -- http://charter97.org/ru/news/2007/11/22/1767/\n",
      "2008 -- На праздничном концерте в Минске прогремел взрыв. Пострадали около 50 человек (Фото, видео) -- 281 -- http://charter97.org/ru/news/2008/7/4/7904/\n",
      "2009 -- Нацбанк «обвалил» белорусский рубль -- 332 -- http://charter97.org/ru/news/2009/1/1/13599/\n",
      "2010 -- Санникова ночью доставили в КГБ, Ирина Халип в тюрьме на Окрестина (Фото) -- 710 -- http://charter97.org/ru/news/2010/12/20/34827/\n",
      "2011 -- Последнее письмо Саше -- 1459 -- http://charter97.org/ru/news/2011/5/31/39115/\n",
      "2012 -- Владислава Ковалева расстреляли -- 2116 -- http://charter97.org/ru/news/2012/3/17/49399/\n",
      "2013 -- Едущих на шопинг за границу обложат пошлиной в $100 -- 902 -- http://charter97.org/ru/news/2013/9/6/75218/\n",
      "2014 -- Водитель минского автобуса похвастался 20 авариями за год (Видео) -- 670 -- http://charter97.org/ru/news/2014/1/6/83269/\n",
      "2015 -- Лукашенко подписал декрет о «тунеядцах» -- 521 -- http://charter97.org/ru/news/2015/4/2/145950/\n",
      "2016 -- Официальная зарплата за апрель составила больше 7 миллионов. А сколько получили вы? -- 429 -- http://charter97.org/ru/news/2016/5/24/205828/\n"
     ]
    }
   ],
   "source": [
    "#svodka_sorted = sorted(svodka.items(), key = itemgetter(0))\n",
    "years = sorted([year for year in svodka_po_godam.keys()])\n",
    "for year in years:\n",
    "    print(year, \"--\",\\\n",
    "          svodka[year][\"title\"], \"--\",\\\n",
    "          svodka[year][\"comments\"], \"--\",\\\n",
    "          svodka[year][\"link\"])"
   ]
  },
  {
   "cell_type": "markdown",
   "metadata": {},
   "source": [
    "## Наблюдения\n",
    "\n",
    "Больше всего комментариев оставлено в 2012 году под статьей \"Владислава Ковалева расстреляли\" (2116). Именно этот материал Хартия вывела в топ с рекордной интенсивностью обсуждения.\n",
    "\n",
    "В целом, материалы сайта, которые выводятся в топ по комментариям, имеют социально-бытовую тематику: цены, зарплаты, общественная безопасность. Политические вещи - выборы, национально-языковой вопрос, отношения с Россией и Европой - в топе не видны.\n",
    "\n",
    "В последние недели редакция Хартии очень активно продвигает фрейм о готовящейся смене руководства Беларуси (\"решение принято в Кремле\", \"в номенклатуре зреет заговор\"). Говоря языком маркетинга, ресурс занимается продажей страха своим читателям."
   ]
  },
  {
   "cell_type": "markdown",
   "metadata": {},
   "source": [
    "## Гипотеза\n",
    "\n",
    "Рост алармистской активности Хартии в декабре 2016 и январе 2017 гг. связан с вероятным сокращением поддержки проекта и объясняется общим сокращением программ демократизации постсоветских стран на фоне проигрыша \"группы Клинтон\" на выборах в США (ЕГУ, Белсат, Mymedia - это только белорусские проекты, которые начало штормить).\n",
    "\n",
    "Судя по описанной выше статистике, главный вызов перед редакцией Хартии - сохранить уровень активности, на который они вышли в последние 3 года. Пока явных признаков заморозки проекта не видно, но есть один показательный штрих с активностью в 2016 году."
   ]
  },
  {
   "cell_type": "code",
   "execution_count": null,
   "metadata": {
    "collapsed": true
   },
   "outputs": [],
   "source": [
    "# Строим график активности для материалов, опубликованных в 2016 году:\n",
    "year_2016_by_month = defaultdict(int)\n",
    "for datum in articles_clustered_by_year[\"2016\"]:\n",
    "    date_string = datum[\"date\"]\n",
    "    d = datetime.datetime.strptime(date_string, \"%Y-%m-%d\")\n",
    "    month = d.strftime(\"%m\")\n",
    "    year_2016_by_month[month] += 1"
   ]
  },
  {
   "cell_type": "code",
   "execution_count": 18,
   "metadata": {
    "collapsed": false
   },
   "outputs": [
    {
     "data": {
      "text/plain": [
       "defaultdict(int,\n",
       "            {'01': 4013,\n",
       "             '02': 4128,\n",
       "             '03': 4174,\n",
       "             '04': 4529,\n",
       "             '05': 4640,\n",
       "             '06': 4522,\n",
       "             '07': 4672,\n",
       "             '08': 3955,\n",
       "             '09': 4862,\n",
       "             '10': 4364,\n",
       "             '11': 3252,\n",
       "             '12': 3183})"
      ]
     },
     "execution_count": 18,
     "metadata": {},
     "output_type": "execute_result"
    }
   ],
   "source": [
    "# Смотрим, что получилось:\n",
    "year_2016_by_month"
   ]
  },
  {
   "cell_type": "code",
   "execution_count": 16,
   "metadata": {
    "collapsed": false
   },
   "outputs": [
    {
     "data": {
      "image/png": "[encoded data removed]",
      "text/plain": [
       "<matplotlib.figure.Figure at 0xaa36528c>"
      ]
     },
     "metadata": {},
     "output_type": "display_data"
    }
   ],
   "source": [
    "# Распечатываем график динамики публикаций по месяцам 2016 года:\n",
    "articles_2016_ordered = OrderedDict(sorted(year_2016_by_month.items()))\n",
    "\n",
    "plt.bar(range(len(articles_2016_ordered)), articles_2016_ordered.values(), align=\"center\")\n",
    "plt.xticks(range(len(articles_2016_ordered)), articles_2016_ordered.keys())\n",
    "\n",
    "plt.show()"
   ]
  },
  {
   "cell_type": "markdown",
   "metadata": {},
   "source": [
    "Аккурат с ноября месяца, когда в США прошли президентские выборы и проиграла Хиллари Клинтон, Хартия снизила активность публикаций и завершила декабрь с самым низким показателем в году - 3 183 материала.\n",
    "\n",
    "Это снижение активности может быть временным явлением, и в будущем сайт может наверстать былой темп. А может и нет.  "
   ]
  }
 ],
 "metadata": {
  "kernelspec": {
   "display_name": "Python 2",
   "language": "python",
   "name": "python2"
  },
  "language_info": {
   "codemirror_mode": {
    "name": "ipython",
    "version": 2
   },
   "file_extension": ".py",
   "mimetype": "text/x-python",
   "name": "python",
   "nbconvert_exporter": "python",
   "pygments_lexer": "ipython2",
   "version": "2.7.9"
  }
 },
 "nbformat": 4,
 "nbformat_minor": 2
}

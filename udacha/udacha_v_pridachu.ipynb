{
 "cells": [
  {
   "cell_type": "markdown",
   "metadata": {},
   "source": [
    "# Анализ лотереи \"Удача в придачу\"\n",
    "\n",
    "Площадка для работы с данными лотереи. Здесь собираются сами данные и результаты их анализа. \n",
    "\n",
    "## Источники данных\n",
    "1. Основной источник данных - https://igra.evroopt.by/archive/winners/\n",
    "2. Архив лотереи с регистрационными документами отдельных туров - https://igra.evroopt.by/archive/\n",
    "\n",
    "\n",
    "## Правила и особенности игры\n",
    "\n",
    "Рекламная игра \"Удача в придачу\" проводится отдельными турами, каждый тур длится 14 дней. Туры с 1 по 4 объединены в 1 тур.\n",
    "\n",
    "В каждом туре есть список игровых товаров. Для участия в игре человек должен приобрести в магазине сети \"Евроопт\" игровой товар, причем общая сумма покупки должна превышать 10 рублей. В таком случае игрок получает игровой код и может принять участие в лотерее. За каждые последующие 10 рублей в чеке можно получить дополнительный игровой код вне зависимости от того, куплен еще один игровой товар или нет.\n",
    "\n",
    "После покупки нужно зарегистрироваться на сайте игры и ввести свои персональные данные.\n",
    "\n",
    "\n",
    "## Персональные данные\n",
    "\n",
    "Участие в игре предполагает передачу персональных данных игрока организатору лотереи:\n",
    "\n",
    "- Обязательные данные\n",
    "    - ФИО\n",
    "    - Населенный пункт\n",
    "    - Улица (при наличии)\n",
    "    - Дом\n",
    "    - Корпус дома (при наличии)\n",
    "    - Номер квартиры (при наличии)\n",
    "    - Номер мобильного телефона в международном формате\n",
    "\n",
    "\n",
    "- Желательные данные\n",
    "    - Область\n",
    "    - Район\n",
    "    - Адрес электронной почты\n",
    "\n",
    "Соглашение об обработке и хранении персональных данных игроков приводится в регистрационных документах каждого тура.\n",
    "\n",
    "\n",
    "## Охват игры\n",
    "\n",
    "Определить точное количество участников игры по номеру игрового кода не удастся, поскольку один человек может получить несколько игровых кодов. Согласно [пресс-релизу](https://igra.evroopt.by/news/complete27/), за первый год работы лотереи в ней приняли участие около 1.2 миллиона человек.\n",
    "\n",
    "Можно предположить, что на окончание 34 тура реальное количество участников лотереи составляет около 1,5 миллиона человек. Лотерея уже охватывает 4 958 населенных пунктов.\n",
    "\n",
    "\n",
    "## Данные: \n",
    "\n",
    "1. Календарь туров игры - data/calendar.csv\n",
    "2. Собранные данные по победителям туров - data/evroopt_udacha.csv\n",
    "3. Оригиналы регистрационных документов отдельных туров игры - docs/*\n",
    "\n",
    "\n",
    "## Структура основного набора данных\n",
    "\n",
    "В основном наборе данных *data/evroopt_udacha.csv* указаны следующие переменные:\n",
    "\n",
    "- **tour**, номер тура игры\n",
    "- **game_code**, выигравший игровой код\n",
    "- **fio**, ФИО победителя\n",
    "- **place**, место жительства\n",
    "- **lat**, широта\n",
    "- **lon**, долгота (координаты нуждаются в проверке)\n",
    "- **sex**, пол победителя (определен для около 99,5% победителей)\n",
    "- **evroopt**, является или нет сотрудником сети \"Евроопт\"\n",
    "- **prize**, приз\n",
    "- **n_prize**, номер приза\n",
    "\n",
    "## Рабочие вопросы и гипотезы\n",
    "\n",
    "1. Есть ли закономерности в значениях выигравших кодов (пременная game_code)?\n",
    "2. Что означают повторы значений переменной game_code? Например, среди выигравших в 1-32 турах 263 170 игровых кодов только 247 446 или 94% уникальных кода.\n",
    "\n",
    "**Гипотеза**. Широкая география выигрышей (4 958 населенных пунктов) может быть не случайна, а срежиссирована маркетологами игры с целью расширения клиентуры торговой сети.\n",
    "\n",
    "Варианты проверки гипотезы:\n",
    "\n",
    "1. В каждом туре есть некое постоянное число новых мест проживания победителей\n",
    "2. В каждом туре есть квота на города-поселки с определенным числом жителей\n",
    "3. География лотереи как-то совпадает с географией самой сети \"Евроопт\" и ее возможностей по автоперевозкам\n"
   ]
  },
  {
   "cell_type": "code",
   "execution_count": 1,
   "metadata": {
    "collapsed": true
   },
   "outputs": [],
   "source": [
    "import pandas as pd\n",
    "import numpy as np\n",
    "%matplotlib inline\n",
    "from matplotlib import pyplot as plt\n",
    "import seaborn as sns"
   ]
  },
  {
   "cell_type": "code",
   "execution_count": 2,
   "metadata": {
    "collapsed": true
   },
   "outputs": [],
   "source": [
    "data = pd.read_csv(\"data/evroopt_udacha.csv\")"
   ]
  },
  {
   "cell_type": "code",
   "execution_count": 9,
   "metadata": {},
   "outputs": [
    {
     "data": {
      "text/plain": [
       "Рачковский Владимир Витольдович    31\n",
       "Морозова Татьяна Михайловна        29\n",
       "Денисик Алла Михайловна            29\n",
       "Корнеев Павел Борисович            29\n",
       "Занько Сергей Алексеевич           27\n",
       "Савостьянов Леонид Леонидович      25\n",
       "Шайковская Екатерина Сергеевна     24\n",
       "Рыбалко Александр Валентинович     24\n",
       "Шестакович Наталья Николаевна      24\n",
       "Климович Игорь Николаевич          23\n",
       "Name: fio, dtype: int64"
      ]
     },
     "execution_count": 9,
     "metadata": {},
     "output_type": "execute_result"
    }
   ],
   "source": [
    "# Смотрим самых везучих победителей по количеству выигрышей\n",
    "data[\"fio\"].value_counts().head(10)"
   ]
  },
  {
   "cell_type": "code",
   "execution_count": 18,
   "metadata": {},
   "outputs": [
    {
     "data": {
      "text/plain": [
       "[<matplotlib.text.Text at 0xad5e3a6c>,\n",
       " <matplotlib.text.Text at 0xabf7022c>,\n",
       " <matplotlib.text.Text at 0xad5e32cc>]"
      ]
     },
     "execution_count": 18,
     "metadata": {},
     "output_type": "execute_result"
    },
    {
     "data": {
      "image/png": "[encoded data removed]",
      "text/plain": [
       "<matplotlib.figure.Figure at 0xac90e88c>"
      ]
     },
     "metadata": {},
     "output_type": "display_data"
    }
   ],
   "source": [
    "# Смотрим динамику призового фонда игры\n",
    "calendar = pd.read_csv(\"data/calendar.csv\")\n",
    "sns.barplot(x = \"tour\", y = \"prize_fund\", data = calendar)\\\n",
    "    .set(xlabel = u\"Тур игры\", ylabel = u'Рублей', title = u\"Призовой фонд игры, BYN\")"
   ]
  },
  {
   "cell_type": "markdown",
   "metadata": {},
   "source": [
    "Первое, что бросается в глаза - это динамика количества призов. С 24 тура количество призов и победителей резко выросло, а с 30 тура так же резко сократилось."
   ]
  },
  {
   "cell_type": "code",
   "execution_count": 19,
   "metadata": {
    "scrolled": true
   },
   "outputs": [
    {
     "data": {
      "text/plain": [
       "<matplotlib.axes._subplots.AxesSubplot at 0xabbe606c>"
      ]
     },
     "execution_count": 19,
     "metadata": {},
     "output_type": "execute_result"
    },
    {
     "data": {
      "image/png": "[encoded data removed]",
      "text/plain": [
       "<matplotlib.figure.Figure at 0xac8ea3ac>"
      ]
     },
     "metadata": {},
     "output_type": "display_data"
    }
   ],
   "source": [
    "sns.countplot(data[\"tour\"])"
   ]
  },
  {
   "cell_type": "markdown",
   "metadata": {},
   "source": [
    "Смотрим, где чаще всего выигрывают"
   ]
  },
  {
   "cell_type": "code",
   "execution_count": 20,
   "metadata": {},
   "outputs": [
    {
     "data": {
      "text/plain": [
       "г. Минск         0.277439\n",
       "г. Гомель        0.056345\n",
       "г. Витебск       0.045241\n",
       "г. Гродно        0.039114\n",
       "г. Могилев       0.031547\n",
       "г. Брест         0.029216\n",
       "г. Бобруйск      0.023858\n",
       "г. Лида          0.021593\n",
       "г. Новополоцк    0.016669\n",
       "г. Жлобин        0.016548\n",
       "Name: place, dtype: float64"
      ]
     },
     "execution_count": 20,
     "metadata": {},
     "output_type": "execute_result"
    }
   ],
   "source": [
    "places = data[\"place\"].value_counts(normalize = True)\n",
    "places.head(10)"
   ]
  },
  {
   "cell_type": "markdown",
   "metadata": {},
   "source": [
    "28% выигрышей приходится на Минск. За столицей с большим отрывом идут другие города - там находится не более 6% победителей."
   ]
  }
 ],
 "metadata": {
  "kernelspec": {
   "display_name": "Python 3",
   "language": "python",
   "name": "python3"
  },
  "language_info": {
   "codemirror_mode": {
    "name": "ipython",
    "version": 3
   },
   "file_extension": ".py",
   "mimetype": "text/x-python",
   "name": "python",
   "nbconvert_exporter": "python",
   "pygments_lexer": "ipython3",
   "version": "3.4.2"
  }
 },
 "nbformat": 4,
 "nbformat_minor": 2
}

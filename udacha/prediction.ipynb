{
 "cells": [
  {
   "cell_type": "markdown",
   "metadata": {},
   "source": [
    "## Предсказание победы в лотерее \"Удача в придачу\"\n",
    "\n",
    "Учебная практика предсказаний удачи на основе различных данных об участниках 66-го тура лотереи.\n",
    "\n",
    "Задача - предсказать, выиграет участник приз или нет.\n",
    "\n",
    "В данных указаны следующие переменные:\n",
    "\n",
    "1. **place** - место жительства игрока\n",
    "2. **fio** - ФИО игрока\n",
    "3. **pol** - пол игрока (1 - мужчины, 0 - женщины)\n",
    "4. **codes_total** - количество игровых кодов у одного игрока (в одном туре игры можно заявить сразу несколько товаров)\n",
    "5. **alavka** - работает (1) или нет (0) в районе автолавка \"Евроопта\"\n",
    "6. **area** - город (1) или сельская местность (0), где проживает игрок\n",
    "7. **evroshop** - есть (1) или нет (0) в населенном пункте магазин или гипермаркет \"Евроопта\"\n",
    "8. **winner** - выиграл или нет в 66-м туре (целевой признак)\n",
    "9. **won_totals** - выигрывал (1) или нет (0) в предыдущих турах\n",
    "\n",
    "Все данные компании [\"Евроопт\"](https://igra.evroopt.by)."
   ]
  },
  {
   "cell_type": "code",
   "execution_count": 1,
   "metadata": {},
   "outputs": [],
   "source": [
    "import numpy as np\n",
    "import pandas as pd\n",
    "from sklearn.model_selection import train_test_split\n",
    "from sklearn import metrics\n",
    "from sklearn.ensemble import RandomForestClassifier"
   ]
  },
  {
   "cell_type": "code",
   "execution_count": 2,
   "metadata": {},
   "outputs": [
    {
     "data": {
      "text/html": [
       "<div>\n",
       "<style>\n",
       "    .dataframe thead tr:only-child th {\n",
       "        text-align: right;\n",
       "    }\n",
       "\n",
       "    .dataframe thead th {\n",
       "        text-align: left;\n",
       "    }\n",
       "\n",
       "    .dataframe tbody tr th {\n",
       "        vertical-align: top;\n",
       "    }\n",
       "</style>\n",
       "<table border=\"1\" class=\"dataframe\">\n",
       "  <thead>\n",
       "    <tr style=\"text-align: right;\">\n",
       "      <th></th>\n",
       "      <th>place</th>\n",
       "      <th>fio</th>\n",
       "      <th>pol</th>\n",
       "      <th>codes_total</th>\n",
       "      <th>alavka</th>\n",
       "      <th>area</th>\n",
       "      <th>evroshop</th>\n",
       "      <th>winner</th>\n",
       "      <th>won_totals</th>\n",
       "    </tr>\n",
       "  </thead>\n",
       "  <tbody>\n",
       "    <tr>\n",
       "      <th>0</th>\n",
       "      <td>г. Гомель</td>\n",
       "      <td>горский игорь петрович</td>\n",
       "      <td>1</td>\n",
       "      <td>4</td>\n",
       "      <td>0</td>\n",
       "      <td>1</td>\n",
       "      <td>1</td>\n",
       "      <td>1</td>\n",
       "      <td>1</td>\n",
       "    </tr>\n",
       "    <tr>\n",
       "      <th>1</th>\n",
       "      <td>г. Гомель</td>\n",
       "      <td>Трибуналова Юлия Николаевна</td>\n",
       "      <td>0</td>\n",
       "      <td>10</td>\n",
       "      <td>0</td>\n",
       "      <td>1</td>\n",
       "      <td>1</td>\n",
       "      <td>0</td>\n",
       "      <td>1</td>\n",
       "    </tr>\n",
       "    <tr>\n",
       "      <th>2</th>\n",
       "      <td>г. Гомель</td>\n",
       "      <td>Дорохова Елена Николаевна</td>\n",
       "      <td>0</td>\n",
       "      <td>1</td>\n",
       "      <td>0</td>\n",
       "      <td>1</td>\n",
       "      <td>1</td>\n",
       "      <td>0</td>\n",
       "      <td>1</td>\n",
       "    </tr>\n",
       "  </tbody>\n",
       "</table>\n",
       "</div>"
      ],
      "text/plain": [
       "       place                          fio  pol  codes_total  alavka  area  \\\n",
       "0  г. Гомель       горский игорь петрович    1            4       0     1   \n",
       "1  г. Гомель  Трибуналова Юлия Николаевна    0           10       0     1   \n",
       "2  г. Гомель    Дорохова Елена Николаевна    0            1       0     1   \n",
       "\n",
       "   evroshop  winner  won_totals  \n",
       "0         1       1           1  \n",
       "1         1       0           1  \n",
       "2         1       0           1  "
      ]
     },
     "execution_count": 2,
     "metadata": {},
     "output_type": "execute_result"
    }
   ],
   "source": [
    "data = pd.read_csv(\"data/players_66.csv\")\n",
    "data.head(3)"
   ]
  },
  {
   "cell_type": "code",
   "execution_count": 14,
   "metadata": {},
   "outputs": [],
   "source": [
    "features = [\"pol\", \"codes_total\", \"alavka\", \"area\", \"evroshop\", \"won_totals\"]\n",
    "target = \"winner\""
   ]
  },
  {
   "cell_type": "code",
   "execution_count": 15,
   "metadata": {},
   "outputs": [],
   "source": [
    "X = data[features].values\n",
    "Y = data[target].values"
   ]
  },
  {
   "cell_type": "code",
   "execution_count": 16,
   "metadata": {},
   "outputs": [],
   "source": [
    "x_train, x_test, y_train, y_test = train_test_split(X, Y, test_size=0.30, random_state=42)"
   ]
  },
  {
   "cell_type": "code",
   "execution_count": 24,
   "metadata": {},
   "outputs": [
    {
     "data": {
      "text/plain": [
       "RandomForestClassifier(bootstrap=True, class_weight=None, criterion='gini',\n",
       "            max_depth=None, max_features='auto', max_leaf_nodes=None,\n",
       "            min_impurity_decrease=0.0, min_impurity_split=None,\n",
       "            min_samples_leaf=1, min_samples_split=2,\n",
       "            min_weight_fraction_leaf=0.0, n_estimators=10, n_jobs=1,\n",
       "            oob_score=False, random_state=None, verbose=0,\n",
       "            warm_start=False)"
      ]
     },
     "execution_count": 24,
     "metadata": {},
     "output_type": "execute_result"
    }
   ],
   "source": [
    "rf_model = RandomForestClassifier()\n",
    "rf_model.fit(x_train, y_train)"
   ]
  },
  {
   "cell_type": "code",
   "execution_count": 25,
   "metadata": {},
   "outputs": [
    {
     "data": {
      "text/plain": [
       "0.95096519227846177"
      ]
     },
     "execution_count": 25,
     "metadata": {},
     "output_type": "execute_result"
    }
   ],
   "source": [
    "rf_predict_train = rf_model.predict(x_train)\n",
    "metrics.accuracy_score(rf_predict_train, y_train)"
   ]
  },
  {
   "cell_type": "code",
   "execution_count": 26,
   "metadata": {},
   "outputs": [
    {
     "data": {
      "text/plain": [
       "0.95104119167046663"
      ]
     },
     "execution_count": 26,
     "metadata": {},
     "output_type": "execute_result"
    }
   ],
   "source": [
    "rf_predict_test = rf_model.predict(x_test)\n",
    "metrics.accuracy_score(rf_predict_test, y_test)"
   ]
  }
 ],
 "metadata": {
  "kernelspec": {
   "display_name": "Python 3",
   "language": "python",
   "name": "python3"
  },
  "language_info": {
   "codemirror_mode": {
    "name": "ipython",
    "version": 3
   },
   "file_extension": ".py",
   "mimetype": "text/x-python",
   "name": "python",
   "nbconvert_exporter": "python",
   "pygments_lexer": "ipython3",
   "version": "3.4.2"
  }
 },
 "nbformat": 4,
 "nbformat_minor": 2
}

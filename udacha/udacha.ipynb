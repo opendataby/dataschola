{
 "cells": [
  {
   "cell_type": "markdown",
   "metadata": {},
   "source": [
    "# Обзор данных лотереи \"Удача в придачу\"\n",
    "\n",
    "1. Источник данных - https://igra.evroopt.by/archive/winners/\n",
    "2. Архив лотереи с регистрационными документами - https://igra.evroopt.by/archive/"
   ]
  },
  {
   "cell_type": "code",
   "execution_count": 1,
   "metadata": {
    "collapsed": true
   },
   "outputs": [],
   "source": [
    "import pandas as pd\n",
    "import seaborn as sns\n",
    "import matplotlib.pyplot as plt\n",
    "%matplotlib inline"
   ]
  },
  {
   "cell_type": "code",
   "execution_count": 13,
   "metadata": {},
   "outputs": [
    {
     "data": {
      "text/plain": [
       "(243126, 8)"
      ]
     },
     "execution_count": 13,
     "metadata": {},
     "output_type": "execute_result"
    }
   ],
   "source": [
    "data = pd.read_csv(\"evroopt_udacha.csv\")\n",
    "data.shape"
   ]
  },
  {
   "cell_type": "code",
   "execution_count": 12,
   "metadata": {},
   "outputs": [
    {
     "data": {
      "text/html": [
       "<div>\n",
       "<table border=\"1\" class=\"dataframe\">\n",
       "  <thead>\n",
       "    <tr style=\"text-align: right;\">\n",
       "      <th></th>\n",
       "      <th>tour</th>\n",
       "      <th>game_code</th>\n",
       "      <th>fio</th>\n",
       "      <th>place</th>\n",
       "      <th>sex</th>\n",
       "      <th>evroopt</th>\n",
       "      <th>prize</th>\n",
       "      <th>n_prize</th>\n",
       "    </tr>\n",
       "  </thead>\n",
       "  <tbody>\n",
       "    <tr>\n",
       "      <th>0</th>\n",
       "      <td>27</td>\n",
       "      <td>3123897</td>\n",
       "      <td>Самкович Валентина Петровна</td>\n",
       "      <td>г. Минск</td>\n",
       "      <td>f</td>\n",
       "      <td>NaN</td>\n",
       "      <td>Квартира в Минске!</td>\n",
       "      <td>NaN</td>\n",
       "    </tr>\n",
       "    <tr>\n",
       "      <th>1</th>\n",
       "      <td>27</td>\n",
       "      <td>2735459</td>\n",
       "      <td>Ходос Ольга Владимировна</td>\n",
       "      <td>г. Витебск</td>\n",
       "      <td>f</td>\n",
       "      <td>NaN</td>\n",
       "      <td>Автомобиль Hyundai Creta</td>\n",
       "      <td>NaN</td>\n",
       "    </tr>\n",
       "    <tr>\n",
       "      <th>2</th>\n",
       "      <td>27</td>\n",
       "      <td>927866</td>\n",
       "      <td>Лисовская Леонарда Болеславовна</td>\n",
       "      <td>г. Лида</td>\n",
       "      <td>f</td>\n",
       "      <td>NaN</td>\n",
       "      <td>Автомобиль Hyundai Creta</td>\n",
       "      <td>NaN</td>\n",
       "    </tr>\n",
       "    <tr>\n",
       "      <th>3</th>\n",
       "      <td>27</td>\n",
       "      <td>1708769</td>\n",
       "      <td>Волков Валерий Владимирович</td>\n",
       "      <td>г. Бобруйск</td>\n",
       "      <td>m</td>\n",
       "      <td>NaN</td>\n",
       "      <td>Автомобиль Hyundai Creta</td>\n",
       "      <td>NaN</td>\n",
       "    </tr>\n",
       "    <tr>\n",
       "      <th>4</th>\n",
       "      <td>27</td>\n",
       "      <td>3099634</td>\n",
       "      <td>Васенко Александр Викторович</td>\n",
       "      <td>г. Могилев</td>\n",
       "      <td>m</td>\n",
       "      <td>NaN</td>\n",
       "      <td>Сертификат 100 BYN</td>\n",
       "      <td>1.0</td>\n",
       "    </tr>\n",
       "  </tbody>\n",
       "</table>\n",
       "</div>"
      ],
      "text/plain": [
       "   tour  game_code                              fio        place sex  evroopt  \\\n",
       "0    27    3123897      Самкович Валентина Петровна     г. Минск   f      NaN   \n",
       "1    27    2735459         Ходос Ольга Владимировна   г. Витебск   f      NaN   \n",
       "2    27     927866  Лисовская Леонарда Болеславовна      г. Лида   f      NaN   \n",
       "3    27    1708769      Волков Валерий Владимирович  г. Бобруйск   m      NaN   \n",
       "4    27    3099634     Васенко Александр Викторович   г. Могилев   m      NaN   \n",
       "\n",
       "                      prize  n_prize  \n",
       "0        Квартира в Минске!      NaN  \n",
       "1  Автомобиль Hyundai Creta      NaN  \n",
       "2  Автомобиль Hyundai Creta      NaN  \n",
       "3  Автомобиль Hyundai Creta      NaN  \n",
       "4        Сертификат 100 BYN      1.0  "
      ]
     },
     "execution_count": 12,
     "metadata": {},
     "output_type": "execute_result"
    }
   ],
   "source": [
    "data.head()"
   ]
  },
  {
   "cell_type": "markdown",
   "metadata": {},
   "source": [
    "## Предварительные замечания\n",
    "\n",
    "0. Данные нужно доработать\n",
    "1. Всего доступны данные по 243 126 победителям\n",
    "2. Для каждого победителя в исходных данных указаны:\n",
    "    - номер тура лотереи\n",
    "    - код игры\n",
    "    - ФИО (как правило, полное)\n",
    "    - место покупки лотерейного билета\n",
    "    - описание приза\n",
    "    - номер приза\n",
    "3. Кроме этого, в файл были определены и добавлены:\n",
    "    - поле sex - пол победителя (пока не удалось определить пол для 1 970 победителей)\n",
    "    - поле evroopt (является или не является сотрудником компании \"Евроопт\", которая проводит лотерею)"
   ]
  },
  {
   "cell_type": "markdown",
   "metadata": {},
   "source": [
    "Первое, что бросается в глаза - это динамика количества разыгрываемых призов. С 24 тура количество призов и победителей резко выросло, а с 30 тура так же резко сократилось."
   ]
  },
  {
   "cell_type": "code",
   "execution_count": 23,
   "metadata": {
    "scrolled": true
   },
   "outputs": [
    {
     "data": {
      "text/plain": [
       "<matplotlib.axes._subplots.AxesSubplot at 0x7fcb882c1940>"
      ]
     },
     "execution_count": 23,
     "metadata": {},
     "output_type": "execute_result"
    },
    {
     "data": {
      "image/png": "[encoded data removed]",
      "text/plain": [
       "<matplotlib.figure.Figure at 0x7fcb8b7bfc18>"
      ]
     },
     "metadata": {},
     "output_type": "display_data"
    }
   ],
   "source": [
    "sns.countplot(data[\"tour\"])"
   ]
  },
  {
   "cell_type": "markdown",
   "metadata": {},
   "source": [
    "Смотрим, где чаще всего выигрывают"
   ]
  },
  {
   "cell_type": "code",
   "execution_count": 19,
   "metadata": {},
   "outputs": [
    {
     "data": {
      "text/plain": [
       "г. Минск         0.277214\n",
       "г. Гомель        0.057275\n",
       "г. Витебск       0.045820\n",
       "г. Гродно        0.038556\n",
       "г. Могилев       0.030906\n",
       "г. Брест         0.029269\n",
       "г. Бобруйск      0.023630\n",
       "г. Лида          0.021746\n",
       "г. Жлобин        0.016967\n",
       "г. Новополоцк    0.016761\n",
       "Name: place, dtype: float64"
      ]
     },
     "execution_count": 19,
     "metadata": {},
     "output_type": "execute_result"
    }
   ],
   "source": [
    "places = data[\"place\"].value_counts(normalize = True)\n",
    "places.head(10)"
   ]
  },
  {
   "cell_type": "markdown",
   "metadata": {},
   "source": [
    "28% выигрышей происходит в Минске. Вероятность выиграть в Гомеле и других городах - не более 6%.\n",
    "Смотрим, кто чаще выигрывает: мужчины или женщины"
   ]
  },
  {
   "cell_type": "code",
   "execution_count": 11,
   "metadata": {
    "scrolled": true
   },
   "outputs": [
    {
     "data": {
      "text/plain": [
       "f    0.717809\n",
       "m    0.282191\n",
       "Name: sex, dtype: float64"
      ]
     },
     "execution_count": 11,
     "metadata": {},
     "output_type": "execute_result"
    }
   ],
   "source": [
    "data[\"sex\"].value_counts(normalize = True)"
   ]
  },
  {
   "cell_type": "markdown",
   "metadata": {},
   "source": [
    "Короче, чтобы выиграть, желательно быть женщиной и играть в Минске."
   ]
  }
 ],
 "metadata": {
  "kernelspec": {
   "display_name": "Python 3",
   "language": "python",
   "name": "python3"
  },
  "language_info": {
   "codemirror_mode": {
    "name": "ipython",
    "version": 3
   },
   "file_extension": ".py",
   "mimetype": "text/x-python",
   "name": "python",
   "nbconvert_exporter": "python",
   "pygments_lexer": "ipython3",
   "version": "3.4.2"
  }
 },
 "nbformat": 4,
 "nbformat_minor": 2
}

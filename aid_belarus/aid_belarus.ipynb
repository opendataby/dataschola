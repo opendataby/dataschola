{
 "cells": [
  {
   "cell_type": "markdown",
   "metadata": {},
   "source": [
    "# Обзор международной гуманитарной помощи Беларуси\n",
    "\n",
    "Организация [AidData](http://aiddata.org) уже несколько лет занимается сбором очень подробных данных о международной гуманитарной помощи во всем мире.\n",
    "\n",
    "Собранные данные охватывают период с 90-х годов прошлого века до 2013 года и содержат 67 полей с показателям: от доноров и получателей до сумм грантов, целей расходования средств и времени поступления денег. К сожалению, проект еще далек от 100%-й полноты данных, но темп наполнения базы очень внушительный.\n",
    "\n",
    "В апреле 2016 года вышло 3-е издание базы данных, которая содержит 1 561 040 записей. Из них 4 061 относятся к Беларуси. Получить всю базу можно здесь https://github.com/AidData-WM/public_datasets/releases/. Основной файл весит около 1,3 гигабайта и скорее всего подвесит бытовой компьютер. Поэтому из него с помощью модуля grep были извлечены все строки, содержащие слово \"Belarus\".\n",
    "\n",
    "Итоговый файл aid_belarus.csv весит всего 3 мегабайта и доступен в этой папке. Ниже небольшой обзор этих данных. По правде сказать, работать с файлом лучше всего построчно и в обычном табличном редакторе, медленно просматривая поля implementing_agency (непосредственный грантодатель), title (описание того, кому и на что выделены деньги) и untied_amount_usd_nominal (самое интересное :)"
   ]
  },
  {
   "cell_type": "code",
   "execution_count": 2,
   "metadata": {
    "collapsed": false
   },
   "outputs": [],
   "source": [
    "import csv\n",
    "from collections import Counter"
   ]
  },
  {
   "cell_type": "code",
   "execution_count": 46,
   "metadata": {
    "collapsed": false
   },
   "outputs": [
    {
     "name": "stdout",
     "output_type": "stream",
     "text": [
      "4061 - всего записей по Беларуси.\n"
     ]
    }
   ],
   "source": [
    "with open(\"aid_belarus.csv\") as f:\n",
    "    all_data = [datum for datum in csv.DictReader(f)]\n",
    "print(len(all_data), \"- всего записей по Беларуси.\")"
   ]
  },
  {
   "cell_type": "code",
   "execution_count": 47,
   "metadata": {
    "collapsed": false
   },
   "outputs": [
    {
     "name": "stdout",
     "output_type": "stream",
     "text": [
      "dict_keys(['implementing_agency', 'crs_bi_multi', 'aiddata_activity_names', 'recipient', 'channel_code', 'crs_sector_name', 'source', 'received_amount_usd_nominal', 'aiddata_sector_code', 'coalesced_purpose_code', 'source_detail', 'untied_amount_usd_nominal', 'planned_start_date', 'export_credit_amount_usd_nominal', 'recipient_iso', 'donor', 'crs_biodiversity', 'financing_agency', 'start_date', 'end_date', 'donor_secondary_id', 'crs_gender', 'aiddata_2_id', 'coalesced_purpose_name', 'finance_t', 'commitment_date', 'crs_environment', 'repay_type', 'future_ds_interest_amount_usd_nominal', 'arrears_interest_amount_usd_nominal', 'total_project_cost', 'outstanding_amount_usd_nominal', 'aiddata_activity_codes', 'year', 'donor_region', 'short_description', 'irtc_amount_usd_nominal', 'donor_iso', 'associated_financing', 'expert_commitment_amount_usd_nominal', 'long_description', 'ftc', 'aiddata_purpose_code', 'tied_amount_usd_nominal', 'aiddata_sector_name', 'donor_project_id', 'aiddata_purpose_name', 'crs_purpose_name', 'crs_purpose_code', 'flow_name', 'interest_amount_usd_nominal', 'partial_tied_amount_usd_nominal', 'aiddata_id', 'planned_end_date', 'future_ds_principal_amount_usd_nominal', 'title', 'pdgg', 'recipient_region', 'expert_extended_amount_usd_nominal', 'crs_climate', 'crs_sector_code', 'additional_info', 'crs_desertification', 'crs_trade', 'commitment_amount_usd_constant', 'initial_report', 'arrears_principal_amount_usd_nominal'])\n"
     ]
    }
   ],
   "source": [
    "# Те самые 67 показателей, из которых многие малоинформативны. Поэтому ниже произвольно выбираем наиболее интересные\n",
    "print(all_data[0].keys())"
   ]
  },
  {
   "cell_type": "code",
   "execution_count": 24,
   "metadata": {
    "collapsed": true
   },
   "outputs": [],
   "source": [
    "selected_fields = [\"recipient\", \"implementing_agency\", \"financing_agency\", \"title\", \"short_description\",\\\n",
    "          \"long_description\", \"aiddata_purpose_name\", \"aiddata_sector_name\", \"commitment_amount_usd_constant\",\\\n",
    "          \"donor\", \"year\"]"
   ]
  },
  {
   "cell_type": "code",
   "execution_count": 25,
   "metadata": {
    "collapsed": true
   },
   "outputs": [],
   "source": [
    "data = []\n",
    "for datum in all_data:\n",
    "    d = {}\n",
    "    for key in datum.keys():\n",
    "        if key in fields:\n",
    "            d[key] = datum[key]\n",
    "    data.append(d)"
   ]
  },
  {
   "cell_type": "code",
   "execution_count": 26,
   "metadata": {
    "collapsed": false
   },
   "outputs": [
    {
     "data": {
      "text/plain": [
       "[('Government and civil society, general', 1018),\n",
       " ('Other social infrastructure and services', 438),\n",
       " ('Post-secondary education', 437),\n",
       " ('Other', 281),\n",
       " ('Education, level unspecified', 217),\n",
       " ('Unallocated/  unspecified', 202),\n",
       " ('Population policies/ programmes and reproductive health', 176),\n",
       " ('Emergency response', 134),\n",
       " ('Business and other services', 122),\n",
       " ('Health, general', 120)]"
      ]
     },
     "execution_count": 26,
     "metadata": {},
     "output_type": "execute_result"
    }
   ],
   "source": [
    "# Смотрим, какие сектора в Беларуси привлекают наибольшее внимание доноров \n",
    "sectors = Counter([datum[\"aiddata_sector_name\"] for datum in data])\n",
    "sectors.most_common(10)"
   ]
  },
  {
   "cell_type": "markdown",
   "metadata": {},
   "source": [
    "С большим отрывом лидирует политический сектор: государство и общественные организации."
   ]
  },
  {
   "cell_type": "code",
   "execution_count": 17,
   "metadata": {
    "collapsed": false
   },
   "outputs": [
    {
     "data": {
      "text/plain": [
       "[('Germany', 657),\n",
       " ('United States', 651),\n",
       " ('United Nations Children`s Fund (UNICEF)', 290),\n",
       " ('Sweden', 249),\n",
       " ('France', 243),\n",
       " ('Switzerland', 194),\n",
       " ('United Nations Development Programme (UNDP)', 161),\n",
       " ('United Kingdom', 141),\n",
       " ('Austria', 126),\n",
       " ('Norway', 115)]"
      ]
     },
     "execution_count": 17,
     "metadata": {},
     "output_type": "execute_result"
    }
   ],
   "source": [
    "# Вычисляем происхождение наиболее активных доноров\n",
    "donors = Counter([datum[\"donor\"] for datum in data])\n",
    "donors.most_common(10)"
   ]
  },
  {
   "cell_type": "markdown",
   "metadata": {},
   "source": [
    "Вопреки популярной пропаганде о \"руке Госдепа\", оказывается, что лидером по гуманитарной помощи для Беларуси является Германия. С другой стороны, подробностей о происхождении денег в базе нет, а они вполне могут поступать транзитом."
   ]
  },
  {
   "cell_type": "markdown",
   "metadata": {},
   "source": [
    "Несколько лет назад в Беларуси случился небольшой \"скандал\" с якобы раскрытием информации о финансировании Польшей белорусской оппозиции, подробности здесь http://freesmi.by/politika/110637\n",
    "\n",
    "Вполне вероятно, что упомянутый в статье \"американский сайт\" - это и есть сайт aiddata.org. Интересно, что проект AidData продолжает следовать принципам прозрачности и подотчетности и публикует данные о получателях гуманитарной помощи."
   ]
  },
  {
   "cell_type": "markdown",
   "metadata": {},
   "source": [
    "Например, по данным из базы хорошо видна долгосрочная связь между белорусскими христианскими демократами (незарегистрированная БХД) и норвежской Христианской народной партией (в конце строки - сумма):\n",
    "\n",
    "2009 KrF - Kristelig Folkeparti Cooperation between Belarusian and Norwegian Christian Democrats -- 15927.6248726\n",
    "\n",
    "2012 KrF - Kristelig Folkeparti Cooperation with Christian Democrats in Eastern Europe -- 88307.6235188911\n",
    "\n",
    "2011 KrF - Kristelig Folkeparti Samarbeid mellom norske og hviterussiske kristendemokrater -- 119723.084609071\n",
    "\n",
    "2010 KrF - Kristelig Folkeparti Co-operation between Norwegian and Belarusian Christian Democrats -- 67664.8192571759\n",
    "\n",
    "2008 KrF - Kristelig Folkeparti Cooperation between Belarussian and Norwegian Christian Democratic parti -- 28735.1286948"
   ]
  },
  {
   "cell_type": "markdown",
   "metadata": {},
   "source": [
    "С другой стороны, из-за неполноты данных толком не удается сопоставить объемы гуманитарной помощи белорусскому госсектору (на первый взгляд, он получает гораздо больше) и различным НГО.\n",
    "\n",
    "Но есть надежда, что весной выйдет 4-е издание базы AidData, в которой будет больше информации."
   ]
  },
  {
   "cell_type": "code",
   "execution_count": null,
   "metadata": {
    "collapsed": true
   },
   "outputs": [],
   "source": []
  }
 ],
 "metadata": {
  "kernelspec": {
   "display_name": "Python 3",
   "language": "python",
   "name": "python3"
  },
  "language_info": {
   "codemirror_mode": {
    "name": "ipython",
    "version": 3
   },
   "file_extension": ".py",
   "mimetype": "text/x-python",
   "name": "python",
   "nbconvert_exporter": "python",
   "pygments_lexer": "ipython3",
   "version": "3.4.2"
  }
 },
 "nbformat": 4,
 "nbformat_minor": 2
}
